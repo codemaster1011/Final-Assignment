{
 "cells": [
  {
   "cell_type": "markdown",
   "id": "93ce6828-e082-4cac-8048-a5798ff1b1c5",
   "metadata": {},
   "source": [
    "# Data Science Tools and Ecosystem"
   ]
  },
  {
   "cell_type": "markdown",
   "id": "df8edd33-3639-4ce2-beba-2e7cbeb130d8",
   "metadata": {},
   "source": [
    "##### In this notebook, Data Science Tools and Ecosystem are summarized."
   ]
  },
  {
   "cell_type": "markdown",
   "id": "b6fc97dd-bbd6-4a98-82ba-d4f98171465f",
   "metadata": {},
   "source": [
    "###### __Some of the popular languages that Data Scientists use are:__\n",
    "1) Python\n",
    "2) R\n",
    "3) MySQL"
   ]
  },
  {
   "cell_type": "markdown",
   "id": "f564c1a7-a747-4d66-9a68-5ba964cd7bdd",
   "metadata": {},
   "source": [
    "###### __Some of the commonly used libraries used by Data Scientists include:__\n",
    "1) ggplot library in R\n",
    "2) plotly library in P\n",
    "3) pandas library in python"
   ]
  },
  {
   "cell_type": "markdown",
   "id": "18834dac-0f1a-4940-a928-edb511fcd858",
   "metadata": {},
   "source": [
    "|Data Science Tools|\n",
    "|-------------------|\n",
    "|VScode|\n",
    "|JupyterLab / Jupyter Notebook|\n",
    "|RStudio|"
   ]
  },
  {
   "cell_type": "markdown",
   "id": "472e632e-b6ee-48bb-a6ce-a0b2ec41cdf7",
   "metadata": {},
   "source": [
    "### Below are a few examples of evaluating arithmetic expressions in Python."
   ]
  },
  {
   "cell_type": "code",
   "execution_count": 4,
   "id": "7517d40d-0665-48d4-b5de-76dc9f69bc92",
   "metadata": {},
   "outputs": [
    {
     "data": {
      "text/plain": [
       "17"
      ]
     },
     "execution_count": 4,
     "metadata": {},
     "output_type": "execute_result"
    }
   ],
   "source": [
    "# This a simple arithmetic expression to mutiply then add integers\n",
    "(3*4)+5"
   ]
  },
  {
   "cell_type": "code",
   "execution_count": 5,
   "id": "0a4fdff4-0d2a-4cce-ba90-2259e31fb856",
   "metadata": {},
   "outputs": [
    {
     "name": "stdout",
     "output_type": "stream",
     "text": [
      "3.3333333333333335\n"
     ]
    }
   ],
   "source": [
    "#This will convert 200 minutes to hours by diving by 60\n",
    "hours = 200/60\n",
    "print(hours)"
   ]
  },
  {
   "cell_type": "markdown",
   "id": "e22d1dc5-b875-47a7-896e-4b095210ffb6",
   "metadata": {},
   "source": [
    "__Objectives:__\n"
   ]
  },
  {
   "cell_type": "markdown",
   "id": "21d9ed49-f9dd-44f9-94ea-95fccae0a754",
   "metadata": {},
   "source": [
    "## Author\n",
    "Donald Offor"
   ]
  }
 ],
 "metadata": {
  "kernelspec": {
   "display_name": "Python 3 (ipykernel)",
   "language": "python",
   "name": "python3"
  },
  "language_info": {
   "codemirror_mode": {
    "name": "ipython",
    "version": 3
   },
   "file_extension": ".py",
   "mimetype": "text/x-python",
   "name": "python",
   "nbconvert_exporter": "python",
   "pygments_lexer": "ipython3",
   "version": "3.12.8"
  }
 },
 "nbformat": 4,
 "nbformat_minor": 5
}
